{
  "nbformat": 4,
  "nbformat_minor": 0,
  "metadata": {
    "colab": {
      "name": "Gaussian_example_jax.ipynb",
      "provenance": [],
      "collapsed_sections": [],
      "include_colab_link": true
    },
    "kernelspec": {
      "name": "python3",
      "display_name": "Python 3"
    },
    "accelerator": "TPU"
  },
  "cells": [
    {
      "cell_type": "markdown",
      "metadata": {
        "id": "view-in-github",
        "colab_type": "text"
      },
      "source": [
        "<a href=\"https://colab.research.google.com/github/vicgalle/sgmcmc-force/blob/master/Gaussian_example_jax.ipynb\" target=\"_parent\"><img src=\"https://colab.research.google.com/assets/colab-badge.svg\" alt=\"Open In Colab\"/></a>"
      ]
    },
    {
      "cell_type": "code",
      "metadata": {
        "id": "5CTEVmyKmkfp",
        "colab_type": "code",
        "outputId": "acd11e7e-c8f1-4b6a-f940-9f9951b94c0d",
        "colab": {
          "base_uri": "https://localhost:8080/",
          "height": 85
        }
      },
      "source": [
        "# Grab newest JAX version.\n",
        "!pip install --upgrade -q jax==0.1.54 jaxlib==0.1.37\n",
        "\n",
        "use_tpu = True\n",
        "if use_tpu:\n",
        "# Make sure the Colab Runtime is set to Accelerator: TPU.\n",
        "  import requests\n",
        "  import os\n",
        "  if 'TPU_DRIVER_MODE' not in globals():\n",
        "    url = 'http://' + os.environ['COLAB_TPU_ADDR'].split(':')[0] + ':8475/requestversion/tpu_driver_nightly'\n",
        "    resp = requests.post(url)\n",
        "    TPU_DRIVER_MODE = 1\n",
        "\n",
        "  # The following is required to use TPU Driver as JAX's backend.\n",
        "  from jax.config import config\n",
        "  config.FLAGS.jax_xla_backend = \"tpu_driver\"\n",
        "  config.FLAGS.jax_backend_target = \"grpc://\" + os.environ['COLAB_TPU_ADDR']\n",
        "  print(config.FLAGS.jax_backend_target)"
      ],
      "execution_count": 1,
      "outputs": [
        {
          "output_type": "stream",
          "text": [
            "\u001b[K     |████████████████████████████████| 256kB 3.4MB/s \n",
            "\u001b[K     |████████████████████████████████| 25.4MB 1.2MB/s \n",
            "\u001b[?25h  Building wheel for jax (setup.py) ... \u001b[?25l\u001b[?25hdone\n",
            "grpc://10.5.67.234:8470\n"
          ],
          "name": "stdout"
        }
      ]
    },
    {
      "cell_type": "code",
      "metadata": {
        "id": "27TqNtiQF97X",
        "colab_type": "code",
        "colab": {}
      },
      "source": [
        "import jax\n",
        "import jax.numpy as np\n",
        "from jax import random\n",
        "\n",
        "key = random.PRNGKey(0)"
      ],
      "execution_count": 0,
      "outputs": []
    },
    {
      "cell_type": "code",
      "metadata": {
        "id": "cRWoxSCNGU4o",
        "colab_type": "code",
        "outputId": "3c6c6ad5-6c83-43aa-ba40-0bd01acc0517",
        "colab": {
          "base_uri": "https://localhost:8080/",
          "height": 119
        }
      },
      "source": [
        "d = 2\n",
        "N = 6\n",
        "\n",
        "key, subkey = random.split(key)\n",
        "x0 = 3. + 0.25*random.normal(key, (N, d))\n",
        "print(x0)"
      ],
      "execution_count": 134,
      "outputs": [
        {
          "output_type": "stream",
          "text": [
            "[[3.2593813 3.1996868]\n",
            " [2.9687963 3.0197053]\n",
            " [3.0067084 3.0664346]\n",
            " [2.8299875 3.3063397]\n",
            " [2.9118252 2.6788821]\n",
            " [3.0338914 3.0519772]]\n"
          ],
          "name": "stdout"
        }
      ]
    },
    {
      "cell_type": "code",
      "metadata": {
        "id": "GlH-PZjUFjTl",
        "colab_type": "code",
        "colab": {}
      },
      "source": [
        "eta = 0.01\n",
        "s = 1.\n",
        "h = 2*s**2\n",
        "\n",
        "def K(x):\n",
        "    xmx = np.expand_dims(x, 0) - np.expand_dims(x, 1)\n",
        "    norm = np.einsum('ijk,ijk->ij', xmx, xmx)\n",
        "    return np.exp(-(norm)/h)\n",
        "\n",
        "def g_K(x):\n",
        "    # we avoid calling autograd since the function is non-scalar, for better efficiency\n",
        "    xmx = np.expand_dims(x, 0) - np.expand_dims(x, 1)\n",
        "    return np.expand_dims(K(x), -1) * (2.*xmx/h)\n",
        "\n",
        "def logp(x):\n",
        "    # in this simple case we can sum everything...\n",
        "    return -np.sum(x**2)"
      ],
      "execution_count": 0,
      "outputs": []
    },
    {
      "cell_type": "code",
      "metadata": {
        "id": "vcfwWB9IFjkP",
        "colab_type": "code",
        "colab": {}
      },
      "source": [
        "from jax import grad, jit\n",
        "\n",
        "def svgd(x0, logp, T = 100):\n",
        "    \n",
        "    x = x0\n",
        "    g_logp = grad(logp)\n",
        "    xs = [x0]\n",
        "\n",
        "    update_svgd = jit( lambda x : K(x) @ g_logp(x) + g_K(x).sum(0) ) \n",
        "\n",
        "    for i in range(T):\n",
        "        x = x + eta * update_svgd(x)   \n",
        "        xs.append(x)\n",
        "    return x, np.asarray(xs)"
      ],
      "execution_count": 0,
      "outputs": []
    },
    {
      "cell_type": "code",
      "metadata": {
        "id": "PPORLz1tFjsP",
        "colab_type": "code",
        "outputId": "8c520a14-c27d-4fdf-aa0a-1917bf3347b9",
        "colab": {
          "base_uri": "https://localhost:8080/",
          "height": 119
        }
      },
      "source": [
        "x, xs = svgd(x0, logp, T=200)\n",
        "x"
      ],
      "execution_count": 137,
      "outputs": [
        {
          "output_type": "execute_result",
          "data": {
            "text/plain": [
              "DeviceArray([[ 1.001397  ,  0.44423074],\n",
              "             [-0.9243896 , -0.38732374],\n",
              "             [-0.30366102, -0.00298705],\n",
              "             [-0.31783342,  1.0628091 ],\n",
              "             [ 0.48936245, -0.9865278 ],\n",
              "             [ 0.19265223, -0.05246079]], dtype=float32)"
            ]
          },
          "metadata": {
            "tags": []
          },
          "execution_count": 137
        }
      ]
    },
    {
      "cell_type": "code",
      "metadata": {
        "id": "NlEk7asBFj9K",
        "colab_type": "code",
        "outputId": "c03c765d-d10e-43bb-8d4e-747a40725b15",
        "colab": {
          "base_uri": "https://localhost:8080/",
          "height": 68
        }
      },
      "source": [
        "xs.mean(), xs[:, :, 0].std(), xs[:, :, 1].std()"
      ],
      "execution_count": 138,
      "outputs": [
        {
          "output_type": "execute_result",
          "data": {
            "text/plain": [
              "(DeviceArray(0.18421564, dtype=float32),\n",
              " DeviceArray(0.6957327, dtype=float32),\n",
              " DeviceArray(0.73811656, dtype=float32))"
            ]
          },
          "metadata": {
            "tags": []
          },
          "execution_count": 138
        }
      ]
    },
    {
      "cell_type": "code",
      "metadata": {
        "id": "tst2wYgVFklc",
        "colab_type": "code",
        "colab": {}
      },
      "source": [
        "def sgldr(x0, logp, T = 100, key = key):\n",
        "    \n",
        "    x = x0\n",
        "    g_logp = grad(logp)\n",
        "    xs = [x0]\n",
        "\n",
        "    update_sgldr = jit( lambda x, key : ( eta * ( K(x) @ g_logp(x) + g_K(x).sum(0)) + np.linalg.cholesky(2 * eta * K(x)) @ random.normal(key, (N, d)), random.split(key)[0] ) )\n",
        "\n",
        "    for i in range(T):\n",
        "        x_upd, key = update_sgldr(x, key)\n",
        "        x = x + x_upd\n",
        "        xs.append(x)\n",
        "    return x, np.asarray(xs)"
      ],
      "execution_count": 0,
      "outputs": []
    },
    {
      "cell_type": "code",
      "metadata": {
        "id": "F-f3gpFcFk59",
        "colab_type": "code",
        "outputId": "3a8e00cc-a126-4e79-9bda-6af126aacd5d",
        "colab": {
          "base_uri": "https://localhost:8080/",
          "height": 119
        }
      },
      "source": [
        "x, xs_sgldr = sgldr(x0, logp, 200, key)\n",
        "x"
      ],
      "execution_count": 140,
      "outputs": [
        {
          "output_type": "execute_result",
          "data": {
            "text/plain": [
              "DeviceArray([[ 0.7705375 ,  0.04373644],\n",
              "             [-1.867171  ,  0.7200786 ],\n",
              "             [ 0.5204219 , -0.44146377],\n",
              "             [ 0.3483814 ,  0.9848946 ],\n",
              "             [-0.61981845, -0.9191437 ],\n",
              "             [ 1.2486017 , -0.43471223]], dtype=float32)"
            ]
          },
          "metadata": {
            "tags": []
          },
          "execution_count": 140
        }
      ]
    },
    {
      "cell_type": "code",
      "metadata": {
        "id": "z2Kd4AFwFkw9",
        "colab_type": "code",
        "outputId": "6b27f753-38d5-4028-949b-9c88945b3dae",
        "colab": {
          "base_uri": "https://localhost:8080/",
          "height": 265
        }
      },
      "source": [
        "plt.plot(xs[:, :,0], xs[:, :,1], 'k-')\n",
        "plt.plot(xs_sgldr[:, :,0], xs_sgldr[:, :,1], 'c', alpha=0.4)\n",
        "\n",
        "from matplotlib.lines import Line2D\n",
        "colors = ['black', 'cyan']\n",
        "lines = [Line2D([0], [0], color=c, linewidth=2, linestyle='-') for c in colors]\n",
        "labels = ['SVGD', 'SGLD+R']\n",
        "plt.legend(lines, labels)\n",
        "\n",
        "plt.axis('equal');\n",
        "\n",
        "\n",
        "plt.savefig('svgd_vs_sgldr.png', dpi=300)\n",
        "\n",
        "from google.colab import files\n",
        "files.download('svgd_vs_sgldr.png')"
      ],
      "execution_count": 144,
      "outputs": [
        {
          "output_type": "display_data",
          "data": {
            "image/png": "[encoded data removed]",
            "text/plain": [
              "<Figure size 432x288 with 1 Axes>"
            ]
          },
          "metadata": {
            "tags": []
          }
        }
      ]
    },
    {
      "cell_type": "code",
      "metadata": {
        "id": "6ngqM6H5FkPb",
        "colab_type": "code",
        "outputId": "07dc0d33-d9ea-483f-ef5c-fda0ea775960",
        "colab": {
          "base_uri": "https://localhost:8080/",
          "height": 68
        }
      },
      "source": [
        "xs_sgldr.mean(), xs_sgldr[:, :, 0].std(), xs_sgldr[:, :, 1].std()"
      ],
      "execution_count": 142,
      "outputs": [
        {
          "output_type": "execute_result",
          "data": {
            "text/plain": [
              "(DeviceArray(0.0837023, dtype=float32),\n",
              " DeviceArray(0.8976763, dtype=float32),\n",
              " DeviceArray(0.86983895, dtype=float32))"
            ]
          },
          "metadata": {
            "tags": []
          },
          "execution_count": 142
        }
      ]
    },
    {
      "cell_type": "code",
      "metadata": {
        "id": "pPB49uYEj3ZF",
        "colab_type": "code",
        "colab": {}
      },
      "source": [
        ""
      ],
      "execution_count": 0,
      "outputs": []
    }
  ]
}