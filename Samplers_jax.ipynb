{
  "nbformat": 4,
  "nbformat_minor": 0,
  "metadata": {
    "colab": {
      "name": "Samplers_jax.ipynb",
      "provenance": [],
      "collapsed_sections": [],
      "include_colab_link": true
    },
    "kernelspec": {
      "name": "python3",
      "display_name": "Python 3"
    },
    "accelerator": "TPU"
  },
  "cells": [
    {
      "cell_type": "markdown",
      "metadata": {
        "id": "view-in-github",
        "colab_type": "text"
      },
      "source": [
        "<a href=\"https://colab.research.google.com/github/vicgalle/sgmcmc-force/blob/master/Samplers_jax.ipynb\" target=\"_parent\"><img src=\"https://colab.research.google.com/assets/colab-badge.svg\" alt=\"Open In Colab\"/></a>"
      ]
    },
    {
      "cell_type": "code",
      "metadata": {
        "id": "5CTEVmyKmkfp",
        "colab_type": "code",
        "outputId": "d83f884a-3dad-49f5-c774-ef61e7a183dd",
        "colab": {
          "base_uri": "https://localhost:8080/",
          "height": 34
        }
      },
      "source": [
        "# Grab newest JAX version.\n",
        "!pip install --upgrade -q jax==0.1.54 jaxlib==0.1.37\n",
        "\n",
        "use_tpu = True\n",
        "if use_tpu:\n",
        "# Make sure the Colab Runtime is set to Accelerator: TPU.\n",
        "  import requests\n",
        "  import os\n",
        "  if 'TPU_DRIVER_MODE' not in globals():\n",
        "    url = 'http://' + os.environ['COLAB_TPU_ADDR'].split(':')[0] + ':8475/requestversion/tpu_driver_nightly'\n",
        "    resp = requests.post(url)\n",
        "    TPU_DRIVER_MODE = 1\n",
        "\n",
        "  # The following is required to use TPU Driver as JAX's backend.\n",
        "  from jax.config import config\n",
        "  config.FLAGS.jax_xla_backend = \"tpu_driver\"\n",
        "  config.FLAGS.jax_backend_target = \"grpc://\" + os.environ['COLAB_TPU_ADDR']\n",
        "  print(config.FLAGS.jax_backend_target)"
      ],
      "execution_count": 319,
      "outputs": [
        {
          "output_type": "stream",
          "text": [
            "grpc://10.29.231.114:8470\n"
          ],
          "name": "stdout"
        }
      ]
    },
    {
      "cell_type": "code",
      "metadata": {
        "id": "27TqNtiQF97X",
        "colab_type": "code",
        "colab": {}
      },
      "source": [
        "import jax\n",
        "import jax.numpy as np\n",
        "from jax import random\n",
        "\n",
        "key = random.PRNGKey(0)"
      ],
      "execution_count": 0,
      "outputs": []
    },
    {
      "cell_type": "code",
      "metadata": {
        "id": "cRWoxSCNGU4o",
        "colab_type": "code",
        "outputId": "a9af8e2c-b203-4cef-df27-c7ac70b77cea",
        "colab": {
          "base_uri": "https://localhost:8080/",
          "height": 119
        }
      },
      "source": [
        "d = 2\n",
        "N = 6\n",
        "\n",
        "key, subkey = random.split(key)\n",
        "x0 = 3. + 0.5*random.normal(key, (N, d))\n",
        "print(x0)"
      ],
      "execution_count": 29,
      "outputs": [
        {
          "output_type": "stream",
          "text": [
            "[[3.1442916 3.4241374]\n",
            " [2.8931262 3.7446795]\n",
            " [3.4026442 3.0285323]\n",
            " [2.2092679 2.0875902]\n",
            " [2.7085564 3.9763975]\n",
            " [2.7625566 3.5826383]]\n"
          ],
          "name": "stdout"
        }
      ]
    },
    {
      "cell_type": "code",
      "metadata": {
        "id": "GlH-PZjUFjTl",
        "colab_type": "code",
        "colab": {}
      },
      "source": [
        "eta = 0.1\n",
        "s = 1.\n",
        "h = 2*s**2\n",
        "\n",
        "def K(x):\n",
        "    xmx = np.expand_dims(x, 0) - np.expand_dims(x, 1)\n",
        "    norm = np.einsum('ijk,ijk->ij', xmx, xmx)\n",
        "    return np.exp(-(norm)/h)\n",
        "\n",
        "def g_K(x):\n",
        "    # we avoid calling autograd since the function is non-scalar, for better efficiency\n",
        "    xmx = np.expand_dims(x, 0) - np.expand_dims(x, 1)\n",
        "    return np.expand_dims(K(x), -1) * (2.*xmx/h)\n",
        "\n",
        "def logp(x):\n",
        "    # in this simple case we can sum everything...\n",
        "    return -np.sum(x**2)"
      ],
      "execution_count": 0,
      "outputs": []
    },
    {
      "cell_type": "code",
      "metadata": {
        "id": "vcfwWB9IFjkP",
        "colab_type": "code",
        "colab": {}
      },
      "source": [
        "from jax import grad, jit\n",
        "\n",
        "def svgd(x0, logp, T = 100):\n",
        "    \n",
        "    x = x0\n",
        "    g_logp = grad(logp)\n",
        "\n",
        "    update_svgd = jit( lambda x : K(x) @ g_logp(x) + g_K(x).sum(0) ) \n",
        "\n",
        "    for i in range(T):\n",
        "        x = x + eta * update_svgd(x)   \n",
        "    return x"
      ],
      "execution_count": 0,
      "outputs": []
    },
    {
      "cell_type": "code",
      "metadata": {
        "id": "PPORLz1tFjsP",
        "colab_type": "code",
        "colab": {
          "base_uri": "https://localhost:8080/",
          "height": 119
        },
        "outputId": "2691a3c0-9ef5-4dfd-b0d8-7abb57d71244"
      },
      "source": [
        "x = svgd(x0, logp, T=200)\n",
        "x"
      ],
      "execution_count": 295,
      "outputs": [
        {
          "output_type": "execute_result",
          "data": {
            "text/plain": [
              "DeviceArray([[-0.11794839, -0.952376  ],\n",
              "             [-0.01356053,  0.00813678],\n",
              "             [ 0.8618302 , -0.41363433],\n",
              "             [ 0.66950387,  0.68774754],\n",
              "             [-0.45224318,  0.8495383 ],\n",
              "             [-0.94660246, -0.17873746]], dtype=float32)"
            ]
          },
          "metadata": {
            "tags": []
          },
          "execution_count": 295
        }
      ]
    },
    {
      "cell_type": "code",
      "metadata": {
        "id": "NlEk7asBFj9K",
        "colab_type": "code",
        "colab": {
          "base_uri": "https://localhost:8080/",
          "height": 68
        },
        "outputId": "3bc63a77-a15d-486c-ed39-e26ef9d7f480"
      },
      "source": [
        "x.mean(), x[:, 0].std(), x[:, 1].std()"
      ],
      "execution_count": 296,
      "outputs": [
        {
          "output_type": "execute_result",
          "data": {
            "text/plain": [
              "(DeviceArray(0.00013785, dtype=float32),\n",
              " DeviceArray(0.6199009, dtype=float32),\n",
              " DeviceArray(0.61979014, dtype=float32))"
            ]
          },
          "metadata": {
            "tags": []
          },
          "execution_count": 296
        }
      ]
    },
    {
      "cell_type": "code",
      "metadata": {
        "id": "B4voEADVFkW-",
        "colab_type": "code",
        "colab": {
          "base_uri": "https://localhost:8080/",
          "height": 265
        },
        "outputId": "cfab4e25-d93c-452e-f83e-98a6093f60c9"
      },
      "source": [
        "%matplotlib inline\n",
        "import matplotlib.pyplot as plt\n",
        "\n",
        "plt.plot(x[:,0], x[:,1], 'o')\n",
        "plt.axis('equal');"
      ],
      "execution_count": 297,
      "outputs": [
        {
          "output_type": "display_data",
          "data": {
            "image/png": "[encoded data removed]",
            "text/plain": [
              "<Figure size 432x288 with 1 Axes>"
            ]
          },
          "metadata": {
            "tags": []
          }
        }
      ]
    },
    {
      "cell_type": "code",
      "metadata": {
        "id": "tst2wYgVFklc",
        "colab_type": "code",
        "colab": {}
      },
      "source": [
        "def sgldr(x0, logp, T = 100, key = key):\n",
        "    \n",
        "    x = x0\n",
        "    g_logp = grad(logp)\n",
        "    xs = []\n",
        "\n",
        "    update_sgldr = jit( lambda x, key : ( (eta * K(x) @ g_logp(x) + g_K(x).sum(0)) + np.linalg.cholesky(2 * eta * K(x)) @ random.normal(key, (N, d)), random.split(key)[0] ) )\n",
        "\n",
        "    for i in range(T):\n",
        "        x_upd, key = update_sgldr(x, key)\n",
        "        x = x + x_upd\n",
        "        xs.append(x)\n",
        "    return x, xs"
      ],
      "execution_count": 0,
      "outputs": []
    },
    {
      "cell_type": "code",
      "metadata": {
        "id": "F-f3gpFcFk59",
        "colab_type": "code",
        "colab": {
          "base_uri": "https://localhost:8080/",
          "height": 119
        },
        "outputId": "0a8c51b3-c89a-43cf-8c72-9f9952d55d44"
      },
      "source": [
        "x, xs = sgldr(x0, logp, 200, key)\n",
        "x"
      ],
      "execution_count": 299,
      "outputs": [
        {
          "output_type": "execute_result",
          "data": {
            "text/plain": [
              "DeviceArray([[-0.9010047 , -1.4697626 ],\n",
              "             [-2.2073903 , -0.36033344],\n",
              "             [ 1.7888579 , -1.2374053 ],\n",
              "             [-1.4331865 ,  2.5619044 ],\n",
              "             [ 0.54685235,  0.06607783],\n",
              "             [ 2.0268013 ,  0.94782126]], dtype=float32)"
            ]
          },
          "metadata": {
            "tags": []
          },
          "execution_count": 299
        }
      ]
    },
    {
      "cell_type": "code",
      "metadata": {
        "id": "z2Kd4AFwFkw9",
        "colab_type": "code",
        "colab": {
          "base_uri": "https://localhost:8080/",
          "height": 265
        },
        "outputId": "941e02e3-e31b-4160-88bd-54f68898a6d0"
      },
      "source": [
        "plt.plot(x[:,0], x[:,1], 'o')\n",
        "plt.axis('equal');"
      ],
      "execution_count": 300,
      "outputs": [
        {
          "output_type": "display_data",
          "data": {
            "image/png": "[encoded data removed]",
            "text/plain": [
              "<Figure size 432x288 with 1 Axes>"
            ]
          },
          "metadata": {
            "tags": []
          }
        }
      ]
    },
    {
      "cell_type": "code",
      "metadata": {
        "id": "6ngqM6H5FkPb",
        "colab_type": "code",
        "colab": {
          "base_uri": "https://localhost:8080/",
          "height": 68
        },
        "outputId": "51429217-efd2-4aaf-83dc-cef3ade96bcd"
      },
      "source": [
        "x.mean(), x[:, 0].std(), x[:, 1].std()"
      ],
      "execution_count": 301,
      "outputs": [
        {
          "output_type": "execute_result",
          "data": {
            "text/plain": [
              "(DeviceArray(0.02743606, dtype=float32),\n",
              " DeviceArray(1.5989604, dtype=float32),\n",
              " DeviceArray(1.3689555, dtype=float32))"
            ]
          },
          "metadata": {
            "tags": []
          },
          "execution_count": 301
        }
      ]
    },
    {
      "cell_type": "code",
      "metadata": {
        "id": "u3ggM_WYZ8QC",
        "colab_type": "code",
        "colab": {}
      },
      "source": [
        "def sgd(x0, logp, T = 100):\n",
        "    \n",
        "    x = x0\n",
        "    g_logp = grad(logp)\n",
        "\n",
        "    update_sgd = jit( lambda x : g_logp(x) ) \n",
        "\n",
        "    for i in range(T):\n",
        "        x = x + eta * update_sgd(x)   \n",
        "    return x"
      ],
      "execution_count": 0,
      "outputs": []
    },
    {
      "cell_type": "code",
      "metadata": {
        "id": "QlrRjGLuTlaA",
        "colab_type": "code",
        "colab": {}
      },
      "source": [
        "x = sgd(x0, logp, T = 200)"
      ],
      "execution_count": 0,
      "outputs": []
    },
    {
      "cell_type": "code",
      "metadata": {
        "id": "dObUpwWiTpMk",
        "colab_type": "code",
        "colab": {
          "base_uri": "https://localhost:8080/",
          "height": 289
        },
        "outputId": "90b5ccfa-4046-4e6f-8ae7-41409dbd5c3e"
      },
      "source": [
        "plt.plot(x[:,0], x[:,1], 'o')\n",
        "plt.axis('equal');"
      ],
      "execution_count": 304,
      "outputs": [
        {
          "output_type": "display_data",
          "data": {
            "image/png": "[encoded data removed]",
            "text/plain": [
              "<Figure size 432x288 with 1 Axes>"
            ]
          },
          "metadata": {
            "tags": []
          }
        }
      ]
    },
    {
      "cell_type": "code",
      "metadata": {
        "id": "rvUPPg2chDWZ",
        "colab_type": "code",
        "colab": {
          "base_uri": "https://localhost:8080/",
          "height": 68
        },
        "outputId": "63781dda-e587-42e9-8094-979edcb136b7"
      },
      "source": [
        "x.mean(), x[:, 0].std(), x[:, 1].std()"
      ],
      "execution_count": 305,
      "outputs": [
        {
          "output_type": "execute_result",
          "data": {
            "text/plain": [
              "(DeviceArray(1.2782037e-19, dtype=float32),\n",
              " DeviceArray(0., dtype=float32),\n",
              " DeviceArray(0., dtype=float32))"
            ]
          },
          "metadata": {
            "tags": []
          },
          "execution_count": 305
        }
      ]
    },
    {
      "cell_type": "code",
      "metadata": {
        "id": "Gas-IgRSTssS",
        "colab_type": "code",
        "colab": {}
      },
      "source": [
        "def sgld(x0, logp, T = 100, key = key):\n",
        "    \n",
        "    x = x0\n",
        "    g_logp = grad(logp)\n",
        "    xs = []\n",
        "\n",
        "    update_sgld = jit( lambda x, key : ( (eta * g_logp(x)) + np.linalg.cholesky(2 * eta * np.eye(N)) @ random.normal(key, (N, d)), random.split(key)[0] ) )\n",
        "\n",
        "    for i in range(T):\n",
        "        x_upd, key = update_sgld(x, key)\n",
        "        x = x + x_upd\n",
        "        xs.append(x)\n",
        "    return x, xs"
      ],
      "execution_count": 0,
      "outputs": []
    },
    {
      "cell_type": "code",
      "metadata": {
        "id": "y5Pc25J7UYoU",
        "colab_type": "code",
        "colab": {}
      },
      "source": [
        "x, xs = sgld(x0, logp, T = 200)"
      ],
      "execution_count": 0,
      "outputs": []
    },
    {
      "cell_type": "code",
      "metadata": {
        "id": "hPzLCOkoUgH1",
        "colab_type": "code",
        "colab": {
          "base_uri": "https://localhost:8080/",
          "height": 265
        },
        "outputId": "5c517a1d-6207-4a4b-a82a-3528020a72b4"
      },
      "source": [
        "xs = np.asarray(xs)\n",
        "plt.plot(xs[-1,:,0], xs[-1, :,1], 'o')\n",
        "plt.axis('equal');"
      ],
      "execution_count": 308,
      "outputs": [
        {
          "output_type": "display_data",
          "data": {
            "image/png": "[encoded data removed]",
            "text/plain": [
              "<Figure size 432x288 with 1 Axes>"
            ]
          },
          "metadata": {
            "tags": []
          }
        }
      ]
    },
    {
      "cell_type": "code",
      "metadata": {
        "id": "21DfbZySUhrb",
        "colab_type": "code",
        "colab": {
          "base_uri": "https://localhost:8080/",
          "height": 68
        },
        "outputId": "a34d682e-bf80-4336-dc9e-45182ccdf379"
      },
      "source": [
        "x.mean(), x[:, 0].std(), x[:, 1].std()"
      ],
      "execution_count": 309,
      "outputs": [
        {
          "output_type": "execute_result",
          "data": {
            "text/plain": [
              "(DeviceArray(0.04436448, dtype=float32),\n",
              " DeviceArray(0.48139596, dtype=float32),\n",
              " DeviceArray(0.5093883, dtype=float32))"
            ]
          },
          "metadata": {
            "tags": []
          },
          "execution_count": 309
        }
      ]
    },
    {
      "cell_type": "code",
      "metadata": {
        "id": "-q0tL3weU9fY",
        "colab_type": "code",
        "colab": {}
      },
      "source": [
        "def sgdm(x0, logp, T = 100, alpha = 0.5):\n",
        "    \n",
        "    x = x0\n",
        "    g_logp = grad(logp)\n",
        "\n",
        "    update_sgd = jit( lambda x : g_logp(x) ) \n",
        "    m = np.zeros_like(x)\n",
        "\n",
        "    for i in range(T):\n",
        "        m = alpha * m + eta * update_sgd(x)   \n",
        "        x = x + m\n",
        "    return x"
      ],
      "execution_count": 0,
      "outputs": []
    },
    {
      "cell_type": "code",
      "metadata": {
        "id": "QHO8yb1jWTDe",
        "colab_type": "code",
        "colab": {}
      },
      "source": [
        "x = sgdm(x0, logp, T = 200, alpha=0.5)"
      ],
      "execution_count": 0,
      "outputs": []
    },
    {
      "cell_type": "code",
      "metadata": {
        "id": "m9RXOeq3Wq3-",
        "colab_type": "code",
        "colab": {
          "base_uri": "https://localhost:8080/",
          "height": 68
        },
        "outputId": "6c7d074f-ff98-4ca3-f5fd-5afc014750cb"
      },
      "source": [
        "x.mean(), x[:, 0].std(), x[:, 1].std()"
      ],
      "execution_count": 312,
      "outputs": [
        {
          "output_type": "execute_result",
          "data": {
            "text/plain": [
              "(DeviceArray(8.837335e-31, dtype=float32),\n",
              " DeviceArray(0., dtype=float32),\n",
              " DeviceArray(0., dtype=float32))"
            ]
          },
          "metadata": {
            "tags": []
          },
          "execution_count": 312
        }
      ]
    },
    {
      "cell_type": "code",
      "metadata": {
        "id": "lG1oPtbIWVT3",
        "colab_type": "code",
        "colab": {
          "base_uri": "https://localhost:8080/",
          "height": 289
        },
        "outputId": "48d1b510-7724-4b0f-ecf9-423702891e88"
      },
      "source": [
        "plt.plot(x[:,0], x[:,1], 'o')\n",
        "plt.axis('equal');"
      ],
      "execution_count": 313,
      "outputs": [
        {
          "output_type": "display_data",
          "data": {
            "image/png": "[encoded data removed]",
            "text/plain": [
              "<Figure size 432x288 with 1 Axes>"
            ]
          },
          "metadata": {
            "tags": []
          }
        }
      ]
    },
    {
      "cell_type": "code",
      "metadata": {
        "id": "4uEQFanuWWn1",
        "colab_type": "code",
        "colab": {}
      },
      "source": [
        "def sgdmr(x0, logp, T = 100, alpha = 0.9):\n",
        "    \n",
        "    x = x0\n",
        "    g_logp = grad(logp)\n",
        "\n",
        "    update_sgdm1 = jit( lambda x, m : K(x) @ m + g_K(x).sum(0) ) \n",
        "    update_sgdm2 = jit( lambda x : K(x) @ g_logp(x) + g_K(x).sum(0) ) \n",
        "    m = np.zeros_like(x0)\n",
        "\n",
        "    for i in range(T):\n",
        "        x = x + eta * update_sgdm1(x, m)\n",
        "        m = alpha * m + eta * update_sgdm2(x)\n",
        "    return x"
      ],
      "execution_count": 0,
      "outputs": []
    },
    {
      "cell_type": "code",
      "metadata": {
        "id": "GJQ2H1-ma-yF",
        "colab_type": "code",
        "colab": {
          "base_uri": "https://localhost:8080/",
          "height": 265
        },
        "outputId": "fc3fdf38-82e4-4133-d869-718d9365c14e"
      },
      "source": [
        "x = sgdmr(x0, logp, T=50)\n",
        "plt.plot(x[:,0], x[:,1], 'o')\n",
        "plt.axis('equal');"
      ],
      "execution_count": 315,
      "outputs": [
        {
          "output_type": "display_data",
          "data": {
            "image/png": "[encoded data removed]",
            "text/plain": [
              "<Figure size 432x288 with 1 Axes>"
            ]
          },
          "metadata": {
            "tags": []
          }
        }
      ]
    },
    {
      "cell_type": "code",
      "metadata": {
        "id": "eu3DOYtBbq39",
        "colab_type": "code",
        "colab": {
          "base_uri": "https://localhost:8080/",
          "height": 68
        },
        "outputId": "f9318609-aba9-4e17-fc2b-a5e245101232"
      },
      "source": [
        "x.mean(), x[:, 0].std(), x[:, 1].std()"
      ],
      "execution_count": 316,
      "outputs": [
        {
          "output_type": "execute_result",
          "data": {
            "text/plain": [
              "(DeviceArray(0.09437323, dtype=float32),\n",
              " DeviceArray(0.8222229, dtype=float32),\n",
              " DeviceArray(0.82081527, dtype=float32))"
            ]
          },
          "metadata": {
            "tags": []
          },
          "execution_count": 316
        }
      ]
    },
    {
      "cell_type": "code",
      "metadata": {
        "id": "iTg6CnYYbCKt",
        "colab_type": "code",
        "colab": {
          "base_uri": "https://localhost:8080/",
          "height": 68
        },
        "outputId": "a3537f39-af7c-49ff-d9e3-6d87241d033f"
      },
      "source": [
        "x = svgd(x0, logp, T=50)\n",
        "x.mean(), x[:, 0].std(), x[:, 1].std()"
      ],
      "execution_count": 318,
      "outputs": [
        {
          "output_type": "execute_result",
          "data": {
            "text/plain": [
              "(DeviceArray(-3.1024218e-05, dtype=float32),\n",
              " DeviceArray(0.6126483, dtype=float32),\n",
              " DeviceArray(0.6195676, dtype=float32))"
            ]
          },
          "metadata": {
            "tags": []
          },
          "execution_count": 318
        }
      ]
    },
    {
      "cell_type": "code",
      "metadata": {
        "id": "pPB49uYEj3ZF",
        "colab_type": "code",
        "colab": {}
      },
      "source": [
        ""
      ],
      "execution_count": 0,
      "outputs": []
    }
  ]
}