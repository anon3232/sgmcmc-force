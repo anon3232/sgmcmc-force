{
  "nbformat": 4,
  "nbformat_minor": 0,
  "metadata": {
    "colab": {
      "name": "Samplers_jax.ipynb",
      "provenance": [],
      "collapsed_sections": [],
      "include_colab_link": true
    },
    "kernelspec": {
      "name": "python3",
      "display_name": "Python 3"
    },
    "accelerator": "TPU"
  },
  "cells": [
    {
      "cell_type": "markdown",
      "metadata": {
        "id": "view-in-github",
        "colab_type": "text"
      },
      "source": [
        "<a href=\"https://colab.research.google.com/github/vicgalle/sgmcmc-force/blob/master/Samplers_jax.ipynb\" target=\"_parent\"><img src=\"https://colab.research.google.com/assets/colab-badge.svg\" alt=\"Open In Colab\"/></a>"
      ]
    },
    {
      "cell_type": "code",
      "metadata": {
        "id": "5CTEVmyKmkfp",
        "colab_type": "code",
        "outputId": "286c2664-f7a2-4c1d-8a6c-dd04f9346812",
        "colab": {
          "base_uri": "https://localhost:8080/",
          "height": 85
        }
      },
      "source": [
        "# Grab newest JAX version.\n",
        "!pip install --upgrade -q jax==0.1.54 jaxlib==0.1.37\n",
        "\n",
        "use_tpu = True\n",
        "if use_tpu:\n",
        "# Make sure the Colab Runtime is set to Accelerator: TPU.\n",
        "  import requests\n",
        "  import os\n",
        "  if 'TPU_DRIVER_MODE' not in globals():\n",
        "    url = 'http://' + os.environ['COLAB_TPU_ADDR'].split(':')[0] + ':8475/requestversion/tpu_driver_nightly'\n",
        "    resp = requests.post(url)\n",
        "    TPU_DRIVER_MODE = 1\n",
        "\n",
        "  # The following is required to use TPU Driver as JAX's backend.\n",
        "  from jax.config import config\n",
        "  config.FLAGS.jax_xla_backend = \"tpu_driver\"\n",
        "  config.FLAGS.jax_backend_target = \"grpc://\" + os.environ['COLAB_TPU_ADDR']\n",
        "  print(config.FLAGS.jax_backend_target)"
      ],
      "execution_count": 1,
      "outputs": [
        {
          "output_type": "stream",
          "text": [
            "\u001b[K     |████████████████████████████████| 256kB 3.3MB/s \n",
            "\u001b[K     |████████████████████████████████| 25.4MB 1.0MB/s \n",
            "\u001b[?25h  Building wheel for jax (setup.py) ... \u001b[?25l\u001b[?25hdone\n",
            "grpc://10.111.144.170:8470\n"
          ],
          "name": "stdout"
        }
      ]
    },
    {
      "cell_type": "code",
      "metadata": {
        "id": "27TqNtiQF97X",
        "colab_type": "code",
        "colab": {}
      },
      "source": [
        "import jax\n",
        "import jax.numpy as np\n",
        "from jax import random\n",
        "\n",
        "key = random.PRNGKey(1)"
      ],
      "execution_count": 0,
      "outputs": []
    },
    {
      "cell_type": "code",
      "metadata": {
        "id": "cRWoxSCNGU4o",
        "colab_type": "code",
        "outputId": "351ce52c-a811-475f-f3c5-7e53cbe9db4a",
        "colab": {
          "base_uri": "https://localhost:8080/",
          "height": 119
        }
      },
      "source": [
        "d = 2\n",
        "N = 6\n",
        "\n",
        "key, subkey = random.split(key)\n",
        "x0 = 3. + 0.5*random.normal(key, (N, d))\n",
        "print(x0)"
      ],
      "execution_count": 19,
      "outputs": [
        {
          "output_type": "stream",
          "text": [
            "[[2.7672675 2.6938655]\n",
            " [2.7214782 3.8615785]\n",
            " [3.2499273 3.3816602]\n",
            " [3.2314065 2.6572065]\n",
            " [2.6736882 2.9825811]\n",
            " [3.3671162 3.4524536]]\n"
          ],
          "name": "stdout"
        }
      ]
    },
    {
      "cell_type": "code",
      "metadata": {
        "id": "GlH-PZjUFjTl",
        "colab_type": "code",
        "colab": {}
      },
      "source": [
        "eta = 0.1\n",
        "s = 1.\n",
        "h = 2*s**2\n",
        "\n",
        "def K(x):\n",
        "    xmx = np.expand_dims(x, 0) - np.expand_dims(x, 1)\n",
        "    norm = np.einsum('ijk,ijk->ij', xmx, xmx)\n",
        "    return np.exp(-(norm)/h)\n",
        "\n",
        "def g_K(x):\n",
        "    # we avoid calling autograd since the function is non-scalar, for better efficiency\n",
        "    xmx = np.expand_dims(x, 0) - np.expand_dims(x, 1)\n",
        "    return np.expand_dims(K(x), -1) * (2.*xmx/h)\n",
        "\n",
        "def logp(x):\n",
        "    # Standard Gaussian target\n",
        "    return -np.sum(x**2)"
      ],
      "execution_count": 0,
      "outputs": []
    },
    {
      "cell_type": "code",
      "metadata": {
        "id": "vcfwWB9IFjkP",
        "colab_type": "code",
        "colab": {}
      },
      "source": [
        "from jax import grad, jit\n",
        "\n",
        "def svgd(x0, logp, T = 100):\n",
        "    \n",
        "    x = x0\n",
        "    g_logp = grad(logp)\n",
        "\n",
        "    update_svgd = jit( lambda x : K(x) @ g_logp(x) + g_K(x).sum(0) ) \n",
        "\n",
        "    for i in range(T):\n",
        "        x = x + eta * update_svgd(x)   \n",
        "    return x"
      ],
      "execution_count": 0,
      "outputs": []
    },
    {
      "cell_type": "code",
      "metadata": {
        "id": "PPORLz1tFjsP",
        "colab_type": "code",
        "outputId": "e39ac1a5-eb32-419f-ec8b-36d1dbdfb56d",
        "colab": {
          "base_uri": "https://localhost:8080/",
          "height": 119
        }
      },
      "source": [
        "x = svgd(x0, logp, T=200)\n",
        "x"
      ],
      "execution_count": 22,
      "outputs": [
        {
          "output_type": "execute_result",
          "data": {
            "text/plain": [
              "DeviceArray([[-0.42454344, -0.8572843 ],\n",
              "             [-0.17041917,  0.9470474 ],\n",
              "             [ 0.00880022,  0.01030205],\n",
              "             [ 0.68291396, -0.675293  ],\n",
              "             [-0.9501707 ,  0.12984073],\n",
              "             [ 0.85428995,  0.44544965]], dtype=float32)"
            ]
          },
          "metadata": {
            "tags": []
          },
          "execution_count": 22
        }
      ]
    },
    {
      "cell_type": "code",
      "metadata": {
        "id": "NlEk7asBFj9K",
        "colab_type": "code",
        "outputId": "7c4b4fbd-e7df-434f-ea2f-c105a9647379",
        "colab": {
          "base_uri": "https://localhost:8080/",
          "height": 68
        }
      },
      "source": [
        "x.mean(), x[:, 0].std(), x[:, 1].std()"
      ],
      "execution_count": 23,
      "outputs": [
        {
          "output_type": "execute_result",
          "data": {
            "text/plain": [
              "(DeviceArray(7.778406e-05, dtype=float32),\n",
              " DeviceArray(0.62026393, dtype=float32),\n",
              " DeviceArray(0.6195759, dtype=float32))"
            ]
          },
          "metadata": {
            "tags": []
          },
          "execution_count": 23
        }
      ]
    },
    {
      "cell_type": "code",
      "metadata": {
        "id": "B4voEADVFkW-",
        "colab_type": "code",
        "outputId": "9b029a34-a492-4ec5-efe1-45dce8c07f5e",
        "colab": {
          "base_uri": "https://localhost:8080/",
          "height": 265
        }
      },
      "source": [
        "%matplotlib inline\n",
        "import matplotlib.pyplot as plt\n",
        "\n",
        "plt.plot(x[:,0], x[:,1], 'o')\n",
        "plt.axis('equal');"
      ],
      "execution_count": 24,
      "outputs": [
        {
          "output_type": "display_data",
          "data": {
            "image/png": "[encoded data removed]",
            "text/plain": [
              "<Figure size 432x288 with 1 Axes>"
            ]
          },
          "metadata": {
            "tags": []
          }
        }
      ]
    },
    {
      "cell_type": "code",
      "metadata": {
        "id": "tst2wYgVFklc",
        "colab_type": "code",
        "colab": {}
      },
      "source": [
        "def sgldr(x0, logp, T = 100, key = key):\n",
        "    \n",
        "    x = x0\n",
        "    g_logp = grad(logp)\n",
        "    xs = []\n",
        "\n",
        "    update_sgldr = jit( lambda x, key : ( eta * (K(x) @ g_logp(x) + g_K(x).sum(0)) + np.linalg.cholesky(2 * eta * K(x)) @ random.normal(key, (N, d)), random.split(key)[0] ) )\n",
        "\n",
        "    for i in range(T):\n",
        "        x_upd, key = update_sgldr(x, key)\n",
        "        x = x + x_upd\n",
        "        xs.append(x)\n",
        "    return x, xs"
      ],
      "execution_count": 0,
      "outputs": []
    },
    {
      "cell_type": "code",
      "metadata": {
        "id": "F-f3gpFcFk59",
        "colab_type": "code",
        "outputId": "abc7cff9-bd0e-4a03-b3f3-35d39f47118b",
        "colab": {
          "base_uri": "https://localhost:8080/",
          "height": 119
        }
      },
      "source": [
        "x, xs = sgldr(x0, logp, 200, key)\n",
        "x"
      ],
      "execution_count": 26,
      "outputs": [
        {
          "output_type": "execute_result",
          "data": {
            "text/plain": [
              "DeviceArray([[ 1.4336698 , -0.02702418],\n",
              "             [-0.05222909,  0.7598193 ],\n",
              "             [-0.06846839, -0.53038466],\n",
              "             [-0.81457686, -0.25579137],\n",
              "             [-0.06573653,  0.9449078 ],\n",
              "             [-0.74009824,  1.5039665 ]], dtype=float32)"
            ]
          },
          "metadata": {
            "tags": []
          },
          "execution_count": 26
        }
      ]
    },
    {
      "cell_type": "code",
      "metadata": {
        "id": "z2Kd4AFwFkw9",
        "colab_type": "code",
        "outputId": "9c6ceb5f-cc25-4cfd-c373-051d12f63ab0",
        "colab": {
          "base_uri": "https://localhost:8080/",
          "height": 265
        }
      },
      "source": [
        "plt.plot(x[:,0], x[:,1], 'o')\n",
        "plt.axis('equal');"
      ],
      "execution_count": 27,
      "outputs": [
        {
          "output_type": "display_data",
          "data": {
            "image/png": "[encoded data removed]",
            "text/plain": [
              "<Figure size 432x288 with 1 Axes>"
            ]
          },
          "metadata": {
            "tags": []
          }
        }
      ]
    },
    {
      "cell_type": "code",
      "metadata": {
        "id": "6ngqM6H5FkPb",
        "colab_type": "code",
        "outputId": "a8137fde-e69a-4689-b666-087ee3a859e9",
        "colab": {
          "base_uri": "https://localhost:8080/",
          "height": 68
        }
      },
      "source": [
        "x.mean(), x[:, 0].std(), x[:, 1].std()"
      ],
      "execution_count": 28,
      "outputs": [
        {
          "output_type": "execute_result",
          "data": {
            "text/plain": [
              "(DeviceArray(0.1740045, dtype=float32),\n",
              " DeviceArray(0.73741376, dtype=float32),\n",
              " DeviceArray(0.7214754, dtype=float32))"
            ]
          },
          "metadata": {
            "tags": []
          },
          "execution_count": 28
        }
      ]
    },
    {
      "cell_type": "code",
      "metadata": {
        "id": "u3ggM_WYZ8QC",
        "colab_type": "code",
        "colab": {}
      },
      "source": [
        "def sgd(x0, logp, T = 100):\n",
        "    \n",
        "    x = x0\n",
        "    g_logp = grad(logp)\n",
        "\n",
        "    update_sgd = jit( lambda x : g_logp(x) ) \n",
        "\n",
        "    for i in range(T):\n",
        "        x = x + eta * update_sgd(x)   \n",
        "    return x"
      ],
      "execution_count": 0,
      "outputs": []
    },
    {
      "cell_type": "code",
      "metadata": {
        "id": "QlrRjGLuTlaA",
        "colab_type": "code",
        "colab": {}
      },
      "source": [
        "x = sgd(x0, logp, T = 200)"
      ],
      "execution_count": 0,
      "outputs": []
    },
    {
      "cell_type": "code",
      "metadata": {
        "id": "dObUpwWiTpMk",
        "colab_type": "code",
        "outputId": "2e1cd4af-8ed8-42b0-8cb6-7fc6e6ffa6a8",
        "colab": {
          "base_uri": "https://localhost:8080/",
          "height": 289
        }
      },
      "source": [
        "plt.plot(x[:,0], x[:,1], 'o')\n",
        "plt.axis('equal');"
      ],
      "execution_count": 31,
      "outputs": [
        {
          "output_type": "display_data",
          "data": {
            "image/png": "[encoded data removed]",
            "text/plain": [
              "<Figure size 432x288 with 1 Axes>"
            ]
          },
          "metadata": {
            "tags": []
          }
        }
      ]
    },
    {
      "cell_type": "code",
      "metadata": {
        "id": "rvUPPg2chDWZ",
        "colab_type": "code",
        "outputId": "c2f4a58a-c5d5-4b20-ea57-a47791e8afba",
        "colab": {
          "base_uri": "https://localhost:8080/",
          "height": 68
        }
      },
      "source": [
        "x.mean(), x[:, 0].std(), x[:, 1].std()"
      ],
      "execution_count": 32,
      "outputs": [
        {
          "output_type": "execute_result",
          "data": {
            "text/plain": [
              "(DeviceArray(1.280825e-19, dtype=float32),\n",
              " DeviceArray(0., dtype=float32),\n",
              " DeviceArray(0., dtype=float32))"
            ]
          },
          "metadata": {
            "tags": []
          },
          "execution_count": 32
        }
      ]
    },
    {
      "cell_type": "code",
      "metadata": {
        "id": "Gas-IgRSTssS",
        "colab_type": "code",
        "colab": {}
      },
      "source": [
        "def sgld(x0, logp, T = 100, key = key):\n",
        "    \n",
        "    x = x0\n",
        "    g_logp = grad(logp)\n",
        "    xs = []\n",
        "\n",
        "    update_sgld = jit( lambda x, key : ( (eta * g_logp(x)) + np.linalg.cholesky(2 * eta * np.eye(N)) @ random.normal(key, (N, d)), random.split(key)[0] ) )\n",
        "\n",
        "    for i in range(T):\n",
        "        x_upd, key = update_sgld(x, key)\n",
        "        x = x + x_upd\n",
        "        xs.append(x)\n",
        "    return x, xs"
      ],
      "execution_count": 0,
      "outputs": []
    },
    {
      "cell_type": "code",
      "metadata": {
        "id": "y5Pc25J7UYoU",
        "colab_type": "code",
        "colab": {}
      },
      "source": [
        "x, xs = sgld(x0, logp, T = 200)"
      ],
      "execution_count": 0,
      "outputs": []
    },
    {
      "cell_type": "code",
      "metadata": {
        "id": "hPzLCOkoUgH1",
        "colab_type": "code",
        "outputId": "5c517a1d-6207-4a4b-a82a-3528020a72b4",
        "colab": {
          "base_uri": "https://localhost:8080/",
          "height": 265
        }
      },
      "source": [
        "xs = np.asarray(xs)\n",
        "plt.plot(xs[-1,:,0], xs[-1, :,1], 'o')\n",
        "plt.axis('equal');"
      ],
      "execution_count": 0,
      "outputs": [
        {
          "output_type": "display_data",
          "data": {
            "image/png": "[encoded data removed]",
            "text/plain": [
              "<Figure size 432x288 with 1 Axes>"
            ]
          },
          "metadata": {
            "tags": []
          }
        }
      ]
    },
    {
      "cell_type": "code",
      "metadata": {
        "id": "21DfbZySUhrb",
        "colab_type": "code",
        "outputId": "a34d682e-bf80-4336-dc9e-45182ccdf379",
        "colab": {
          "base_uri": "https://localhost:8080/",
          "height": 68
        }
      },
      "source": [
        "x.mean(), x[:, 0].std(), x[:, 1].std()"
      ],
      "execution_count": 0,
      "outputs": [
        {
          "output_type": "execute_result",
          "data": {
            "text/plain": [
              "(DeviceArray(0.04436448, dtype=float32),\n",
              " DeviceArray(0.48139596, dtype=float32),\n",
              " DeviceArray(0.5093883, dtype=float32))"
            ]
          },
          "metadata": {
            "tags": []
          },
          "execution_count": 309
        }
      ]
    },
    {
      "cell_type": "code",
      "metadata": {
        "id": "-q0tL3weU9fY",
        "colab_type": "code",
        "colab": {}
      },
      "source": [
        "def sgdm(x0, logp, T = 100, alpha = 0.5):\n",
        "    \n",
        "    x = x0\n",
        "    g_logp = grad(logp)\n",
        "\n",
        "    update_sgd = jit( lambda x : g_logp(x) ) \n",
        "    m = np.zeros_like(x)\n",
        "\n",
        "    for i in range(T):\n",
        "        m = alpha * m + eta * update_sgd(x)   \n",
        "        x = x + m\n",
        "    return x"
      ],
      "execution_count": 0,
      "outputs": []
    },
    {
      "cell_type": "code",
      "metadata": {
        "id": "QHO8yb1jWTDe",
        "colab_type": "code",
        "colab": {}
      },
      "source": [
        "x = sgdm(x0, logp, T = 200, alpha=0.5)"
      ],
      "execution_count": 0,
      "outputs": []
    },
    {
      "cell_type": "code",
      "metadata": {
        "id": "m9RXOeq3Wq3-",
        "colab_type": "code",
        "outputId": "6c7d074f-ff98-4ca3-f5fd-5afc014750cb",
        "colab": {
          "base_uri": "https://localhost:8080/",
          "height": 68
        }
      },
      "source": [
        "x.mean(), x[:, 0].std(), x[:, 1].std()"
      ],
      "execution_count": 0,
      "outputs": [
        {
          "output_type": "execute_result",
          "data": {
            "text/plain": [
              "(DeviceArray(8.837335e-31, dtype=float32),\n",
              " DeviceArray(0., dtype=float32),\n",
              " DeviceArray(0., dtype=float32))"
            ]
          },
          "metadata": {
            "tags": []
          },
          "execution_count": 312
        }
      ]
    },
    {
      "cell_type": "code",
      "metadata": {
        "id": "lG1oPtbIWVT3",
        "colab_type": "code",
        "outputId": "48d1b510-7724-4b0f-ecf9-423702891e88",
        "colab": {
          "base_uri": "https://localhost:8080/",
          "height": 289
        }
      },
      "source": [
        "plt.plot(x[:,0], x[:,1], 'o')\n",
        "plt.axis('equal');"
      ],
      "execution_count": 0,
      "outputs": [
        {
          "output_type": "display_data",
          "data": {
            "image/png": "[encoded data removed]",
            "text/plain": [
              "<Figure size 432x288 with 1 Axes>"
            ]
          },
          "metadata": {
            "tags": []
          }
        }
      ]
    },
    {
      "cell_type": "code",
      "metadata": {
        "id": "4uEQFanuWWn1",
        "colab_type": "code",
        "colab": {}
      },
      "source": [
        "def sgdmr(x0, logp, T = 100, alpha = 0.9):\n",
        "    \n",
        "    x = x0\n",
        "    g_logp = grad(logp)\n",
        "\n",
        "    update_sgdm1 = jit( lambda x, m : K(x) @ m + g_K(x).sum(0) ) \n",
        "    update_sgdm2 = jit( lambda x : K(x) @ g_logp(x) + g_K(x).sum(0) ) \n",
        "    m = np.zeros_like(x0)\n",
        "\n",
        "    for i in range(T):\n",
        "        x = x + eta * update_sgdm1(x, m)\n",
        "        m = alpha * m + eta * update_sgdm2(x)\n",
        "    return x"
      ],
      "execution_count": 0,
      "outputs": []
    },
    {
      "cell_type": "code",
      "metadata": {
        "id": "GJQ2H1-ma-yF",
        "colab_type": "code",
        "outputId": "fc3fdf38-82e4-4133-d869-718d9365c14e",
        "colab": {
          "base_uri": "https://localhost:8080/",
          "height": 265
        }
      },
      "source": [
        "x = sgdmr(x0, logp, T=50)\n",
        "plt.plot(x[:,0], x[:,1], 'o')\n",
        "plt.axis('equal');"
      ],
      "execution_count": 0,
      "outputs": [
        {
          "output_type": "display_data",
          "data": {
            "image/png": "[encoded data removed]",
            "text/plain": [
              "<Figure size 432x288 with 1 Axes>"
            ]
          },
          "metadata": {
            "tags": []
          }
        }
      ]
    },
    {
      "cell_type": "code",
      "metadata": {
        "id": "eu3DOYtBbq39",
        "colab_type": "code",
        "outputId": "f9318609-aba9-4e17-fc2b-a5e245101232",
        "colab": {
          "base_uri": "https://localhost:8080/",
          "height": 68
        }
      },
      "source": [
        "x.mean(), x[:, 0].std(), x[:, 1].std()"
      ],
      "execution_count": 0,
      "outputs": [
        {
          "output_type": "execute_result",
          "data": {
            "text/plain": [
              "(DeviceArray(0.09437323, dtype=float32),\n",
              " DeviceArray(0.8222229, dtype=float32),\n",
              " DeviceArray(0.82081527, dtype=float32))"
            ]
          },
          "metadata": {
            "tags": []
          },
          "execution_count": 316
        }
      ]
    },
    {
      "cell_type": "code",
      "metadata": {
        "id": "iTg6CnYYbCKt",
        "colab_type": "code",
        "outputId": "a3537f39-af7c-49ff-d9e3-6d87241d033f",
        "colab": {
          "base_uri": "https://localhost:8080/",
          "height": 68
        }
      },
      "source": [
        "x = svgd(x0, logp, T=50)\n",
        "x.mean(), x[:, 0].std(), x[:, 1].std()"
      ],
      "execution_count": 0,
      "outputs": [
        {
          "output_type": "execute_result",
          "data": {
            "text/plain": [
              "(DeviceArray(-3.1024218e-05, dtype=float32),\n",
              " DeviceArray(0.6126483, dtype=float32),\n",
              " DeviceArray(0.6195676, dtype=float32))"
            ]
          },
          "metadata": {
            "tags": []
          },
          "execution_count": 318
        }
      ]
    },
    {
      "cell_type": "code",
      "metadata": {
        "id": "pPB49uYEj3ZF",
        "colab_type": "code",
        "colab": {}
      },
      "source": [
        ""
      ],
      "execution_count": 0,
      "outputs": []
    }
  ]
}